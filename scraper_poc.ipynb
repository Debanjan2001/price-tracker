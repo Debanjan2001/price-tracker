{
 "cells": [
  {
   "cell_type": "code",
   "execution_count": 70,
   "id": "98fd5da8",
   "metadata": {
    "ExecuteTime": {
     "end_time": "2023-01-11T15:52:46.200521Z",
     "start_time": "2023-01-11T15:52:46.194441Z"
    }
   },
   "outputs": [],
   "source": [
    "import requests\n",
    "import json\n",
    "from bs4 import BeautifulSoup"
   ]
  },
  {
   "cell_type": "code",
   "execution_count": 71,
   "id": "79da88c6",
   "metadata": {
    "ExecuteTime": {
     "end_time": "2023-01-11T15:52:48.606707Z",
     "start_time": "2023-01-11T15:52:48.600354Z"
    }
   },
   "outputs": [],
   "source": [
    "url = \"https://www.amazon.in/dp/B0BF57RN3K?ref_=cm_sw_r_cp_ud_dp_EF3FPCZD7XHSQW4J935A&th=1\""
   ]
  },
  {
   "cell_type": "code",
   "execution_count": 72,
   "id": "39dab143",
   "metadata": {
    "ExecuteTime": {
     "end_time": "2023-01-11T15:52:49.431278Z",
     "start_time": "2023-01-11T15:52:49.065665Z"
    }
   },
   "outputs": [],
   "source": [
    "resp = requests.get(url)"
   ]
  },
  {
   "cell_type": "code",
   "execution_count": 73,
   "id": "9bbfdb27",
   "metadata": {
    "ExecuteTime": {
     "end_time": "2023-01-11T15:52:49.446999Z",
     "start_time": "2023-01-11T15:52:49.437977Z"
    },
    "scrolled": true
   },
   "outputs": [
    {
     "data": {
      "text/plain": [
       "<Response [503]>"
      ]
     },
     "execution_count": 73,
     "metadata": {},
     "output_type": "execute_result"
    }
   ],
   "source": [
    "resp"
   ]
  },
  {
   "cell_type": "code",
   "execution_count": 74,
   "id": "0772291a",
   "metadata": {
    "ExecuteTime": {
     "end_time": "2023-01-11T15:52:49.463693Z",
     "start_time": "2023-01-11T15:52:49.451110Z"
    }
   },
   "outputs": [
    {
     "data": {
      "text/plain": [
       "'Service Unavailable'"
      ]
     },
     "execution_count": 74,
     "metadata": {},
     "output_type": "execute_result"
    }
   ],
   "source": [
    "resp.reason"
   ]
  },
  {
   "cell_type": "code",
   "execution_count": 75,
   "id": "d9838fda",
   "metadata": {
    "ExecuteTime": {
     "end_time": "2023-01-11T15:52:49.827535Z",
     "start_time": "2023-01-11T15:52:49.824853Z"
    }
   },
   "outputs": [],
   "source": [
    "HEADERS = {\n",
    "    'User-Agent': (\"Mozilla/5.0 (X11; Ubuntu; Linux x86_64; rv:108.0) Gecko/20100101 Firefox/108.0\"),\n",
    "    'Accept-Language': 'en-US, en;q=0.5'\n",
    "}"
   ]
  },
  {
   "cell_type": "code",
   "execution_count": 10,
   "id": "584b31a7",
   "metadata": {
    "ExecuteTime": {
     "end_time": "2023-01-11T15:06:13.996191Z",
     "start_time": "2023-01-11T15:06:11.162594Z"
    }
   },
   "outputs": [],
   "source": [
    "resp = requests.get(url=url, headers=HEADERS)"
   ]
  },
  {
   "cell_type": "code",
   "execution_count": 11,
   "id": "28de0aed",
   "metadata": {
    "ExecuteTime": {
     "end_time": "2023-01-11T15:06:14.456235Z",
     "start_time": "2023-01-11T15:06:14.444021Z"
    }
   },
   "outputs": [
    {
     "data": {
      "text/plain": [
       "<Response [200]>"
      ]
     },
     "execution_count": 11,
     "metadata": {},
     "output_type": "execute_result"
    }
   ],
   "source": [
    "resp"
   ]
  },
  {
   "cell_type": "code",
   "execution_count": 12,
   "id": "4d41245e",
   "metadata": {
    "ExecuteTime": {
     "end_time": "2023-01-11T15:06:16.332971Z",
     "start_time": "2023-01-11T15:06:16.322661Z"
    }
   },
   "outputs": [
    {
     "data": {
      "text/plain": [
       "'OK'"
      ]
     },
     "execution_count": 12,
     "metadata": {},
     "output_type": "execute_result"
    }
   ],
   "source": [
    "resp.reason"
   ]
  },
  {
   "cell_type": "code",
   "execution_count": 13,
   "id": "d48c360b",
   "metadata": {
    "ExecuteTime": {
     "end_time": "2023-01-11T15:06:17.617907Z",
     "start_time": "2023-01-11T15:06:17.611969Z"
    },
    "scrolled": true
   },
   "outputs": [],
   "source": [
    "# resp.text"
   ]
  },
  {
   "cell_type": "code",
   "execution_count": 14,
   "id": "877f994c",
   "metadata": {
    "ExecuteTime": {
     "end_time": "2023-01-11T15:06:18.949076Z",
     "start_time": "2023-01-11T15:06:18.566064Z"
    }
   },
   "outputs": [],
   "source": [
    "soup = BeautifulSoup(resp.text)"
   ]
  },
  {
   "cell_type": "code",
   "execution_count": 38,
   "id": "24dc6b2d",
   "metadata": {
    "ExecuteTime": {
     "end_time": "2023-01-10T19:07:31.718170Z",
     "start_time": "2023-01-10T19:07:31.681239Z"
    }
   },
   "outputs": [],
   "source": [
    "# title = soup.find('span', {'id':\"productTitle\"}).text.strip()\n",
    "# price = soup.find('span', {'class':\"a-price-whole\"}).text.strip()\n",
    "# description = soup.find('div', {'id': \"feature-bullets\"}).text.strip()"
   ]
  },
  {
   "cell_type": "code",
   "execution_count": 19,
   "id": "c910a0ca",
   "metadata": {
    "ExecuteTime": {
     "end_time": "2023-01-11T15:11:34.967410Z",
     "start_time": "2023-01-11T15:11:34.961187Z"
    }
   },
   "outputs": [],
   "source": [
    "def print_product(title, price):\n",
    "    print(f\"Name = {title}\\n\\nPrice={price}\")"
   ]
  },
  {
   "cell_type": "code",
   "execution_count": 33,
   "id": "42563112",
   "metadata": {
    "ExecuteTime": {
     "end_time": "2023-01-11T15:27:07.238173Z",
     "start_time": "2023-01-11T15:27:07.227539Z"
    }
   },
   "outputs": [],
   "source": [
    "def scrape_amazon_product(url):\n",
    "    resp = requests.get(url=url, headers=HEADERS)\n",
    "    soup = BeautifulSoup(resp.text)\n",
    "    title = soup.find('span', {'id':\"productTitle\"}).text.strip()\n",
    "    price = soup.find('span', {'class':\"a-price-whole\"}).text.strip()\n",
    "    price = \"\".join(ch for ch in price if ch.isdigit())\n",
    "    return title, price "
   ]
  },
  {
   "cell_type": "code",
   "execution_count": 111,
   "id": "06309f6c",
   "metadata": {
    "ExecuteTime": {
     "end_time": "2023-01-11T16:06:33.615946Z",
     "start_time": "2023-01-11T16:06:30.375240Z"
    }
   },
   "outputs": [],
   "source": [
    "title, price = scrape_amazon_product(\n",
    "    url = \"https://www.amazon.in/dp/B09LHXTXMX\"\n",
    ")"
   ]
  },
  {
   "cell_type": "code",
   "execution_count": 112,
   "id": "a6108bee",
   "metadata": {
    "ExecuteTime": {
     "end_time": "2023-01-11T16:06:34.367122Z",
     "start_time": "2023-01-11T16:06:34.358734Z"
    }
   },
   "outputs": [
    {
     "name": "stdout",
     "output_type": "stream",
     "text": [
      "Name = boAt Rockerz 330 Pro in-Ear Bluetooth Neckband with 60HRS Playtime, ASAP  Charge, ENx  Tech, Signature Sound, BT v5.2, Dual Pairing, IPX5, with Mic (Active Black)\n",
      "\n",
      "Price=1799\n"
     ]
    }
   ],
   "source": [
    "print_product(title, price)"
   ]
  },
  {
   "cell_type": "code",
   "execution_count": 103,
   "id": "c1d590c2",
   "metadata": {
    "ExecuteTime": {
     "end_time": "2023-01-11T16:04:32.393713Z",
     "start_time": "2023-01-11T16:04:32.381767Z"
    }
   },
   "outputs": [],
   "source": [
    "def scrape_myntra_product(url):\n",
    "    resp = requests.get(url=url, headers=HEADERS)\n",
    "    soup = BeautifulSoup(resp.text)\n",
    "    \n",
    "    script = None\n",
    "    for s in soup.find_all(\"script\"):\n",
    "        if 'pdpData' in s.text:\n",
    "            script = s.get_text(strip=True)\n",
    "            break\n",
    "            \n",
    "    data=json.loads(script[script.index('{'):])\n",
    "    title = data['pdpData']['name']\n",
    "    price = data['pdpData']['sizes'][0]['sizeSellerData'][0]['discountedPrice']\n",
    "    return title, price"
   ]
  },
  {
   "cell_type": "code",
   "execution_count": 108,
   "id": "32613a69",
   "metadata": {
    "ExecuteTime": {
     "end_time": "2023-01-11T16:05:21.277447Z",
     "start_time": "2023-01-11T16:05:20.763268Z"
    }
   },
   "outputs": [],
   "source": [
    "title, price = scrape_myntra_product(\n",
    "    url=\"https://www.myntra.com/water-bottle/cello/cello-copper-toned-cop-pura-moksha-leak-proof-bpa-free-pure-copper-water-bottle-1-ltr/20761904/buy\"\n",
    ")"
   ]
  },
  {
   "cell_type": "code",
   "execution_count": 109,
   "id": "a5b8fba4",
   "metadata": {
    "ExecuteTime": {
     "end_time": "2023-01-11T16:05:21.560990Z",
     "start_time": "2023-01-11T16:05:21.552328Z"
    }
   },
   "outputs": [
    {
     "name": "stdout",
     "output_type": "stream",
     "text": [
      "Name = Cello Copper-Toned Cop Pura Moksha Leak Proof BPA Free Pure Copper Water Bottle 1 Ltr\n",
      "\n",
      "Price=1149\n"
     ]
    }
   ],
   "source": [
    "print_product(title, price)"
   ]
  },
  {
   "cell_type": "code",
   "execution_count": null,
   "id": "5f091def",
   "metadata": {},
   "outputs": [],
   "source": []
  }
 ],
 "metadata": {
  "kernelspec": {
   "display_name": "Python 3",
   "language": "python",
   "name": "python3"
  },
  "language_info": {
   "codemirror_mode": {
    "name": "ipython",
    "version": 3
   },
   "file_extension": ".py",
   "mimetype": "text/x-python",
   "name": "python",
   "nbconvert_exporter": "python",
   "pygments_lexer": "ipython3",
   "version": "3.10.6 (main, Nov 14 2022, 16:10:14) [GCC 11.3.0]"
  },
  "vscode": {
   "interpreter": {
    "hash": "916dbcbb3f70747c44a77c7bcd40155683ae19c65e1c03b4aa3499c5328201f1"
   }
  }
 },
 "nbformat": 4,
 "nbformat_minor": 5
}
